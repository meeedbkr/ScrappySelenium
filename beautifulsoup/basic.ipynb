{
 "cells": [
  {
   "cell_type": "markdown",
   "id": "40e8f0e5-66e5-48fb-b27c-b459258f7c84",
   "metadata": {},
   "source": [
    "# BeautifulSoup Tutorial"
   ]
  },
  {
   "cell_type": "markdown",
   "id": "92f1448e-7fd3-4ed2-9868-12c3e3649126",
   "metadata": {},
   "source": [
    "## Basic exos."
   ]
  },
  {
   "cell_type": "markdown",
   "id": "4c231b79-78a9-4d21-b383-ad2c9cc4d6b7",
   "metadata": {},
   "source": [
    "we will master beautifulsoup with concrete exercises"
   ]
  },
  {
   "cell_type": "code",
   "execution_count": 6,
   "id": "4b08dfdd-4638-42ea-8c50-08374c6e3569",
   "metadata": {
    "tags": []
   },
   "outputs": [],
   "source": [
    "# import the necessary libraries\n",
    "import requests\n",
    "from bs4 import BeautifulSoup"
   ]
  },
  {
   "cell_type": "markdown",
   "id": "ead604ac-659f-4526-9c00-3e3d3539da64",
   "metadata": {},
   "source": [
    "### 1. Extract the title of a webpage."
   ]
  },
  {
   "cell_type": "code",
   "execution_count": 7,
   "id": "e36cb253-7d35-41c8-b8a2-8e1146937b1f",
   "metadata": {
    "tags": []
   },
   "outputs": [
    {
     "name": "stdout",
     "output_type": "stream",
     "text": [
      "GitHub: Let’s build from here · GitHub\n"
     ]
    }
   ],
   "source": [
    "# create a variable containing the URL of the desired website\n",
    "url = \"https://www.github.com\"\n",
    "\n",
    "# send a request to the website and store the response\n",
    "response = requests.get(url)\n",
    "\n",
    "# parse the HTML content of the website using BeautifulSoup\n",
    "soup = BeautifulSoup(response.text, \"html.parser\")\n",
    "\n",
    "# extract the title of the website from the parsed HTML\n",
    "title = soup.title.string\n",
    "\n",
    "# print the title of the website\n",
    "print(title)"
   ]
  }
 ],
 "metadata": {
  "kernelspec": {
   "display_name": "Python 3 (ipykernel)",
   "language": "python",
   "name": "python3"
  },
  "language_info": {
   "codemirror_mode": {
    "name": "ipython",
    "version": 3
   },
   "file_extension": ".py",
   "mimetype": "text/x-python",
   "name": "python",
   "nbconvert_exporter": "python",
   "pygments_lexer": "ipython3",
   "version": "3.9.10"
  }
 },
 "nbformat": 4,
 "nbformat_minor": 5
}
