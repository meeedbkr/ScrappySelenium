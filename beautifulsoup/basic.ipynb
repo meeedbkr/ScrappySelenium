{
 "cells": [
  {
   "cell_type": "markdown",
   "id": "40e8f0e5-66e5-48fb-b27c-b459258f7c84",
   "metadata": {},
   "source": [
    "# BeautifulSoup Tutorial"
   ]
  },
  {
   "cell_type": "markdown",
   "id": "92f1448e-7fd3-4ed2-9868-12c3e3649126",
   "metadata": {},
   "source": [
    "## Basic exos."
   ]
  },
  {
   "cell_type": "markdown",
   "id": "4c231b79-78a9-4d21-b383-ad2c9cc4d6b7",
   "metadata": {},
   "source": [
    "we will master beautifulsoup with concrete exercises"
   ]
  },
  {
   "cell_type": "code",
   "execution_count": 26,
   "id": "4b08dfdd-4638-42ea-8c50-08374c6e3569",
   "metadata": {
    "tags": []
   },
   "outputs": [],
   "source": [
    "# import the necessary libraries\n",
    "import requests\n",
    "from bs4 import BeautifulSoup"
   ]
  },
  {
   "cell_type": "markdown",
   "id": "ead604ac-659f-4526-9c00-3e3d3539da64",
   "metadata": {},
   "source": [
    "### 1. Extract the title of a webpage."
   ]
  },
  {
   "cell_type": "code",
   "execution_count": 27,
   "id": "e36cb253-7d35-41c8-b8a2-8e1146937b1f",
   "metadata": {
    "tags": []
   },
   "outputs": [
    {
     "name": "stdout",
     "output_type": "stream",
     "text": [
      "GitHub: Let’s build from here · GitHub\n"
     ]
    }
   ],
   "source": [
    "# create a variable containing the URL of the desired website\n",
    "url = \"https://www.github.com\"\n",
    "\n",
    "# send a request to the website and store the response\n",
    "response = requests.get(url)\n",
    "\n",
    "# parse the HTML content of the website using BeautifulSoup\n",
    "soup = BeautifulSoup(response.text, \"html.parser\")\n",
    "\n",
    "# extract the title of the website from the parsed HTML\n",
    "title = soup.title.string\n",
    "\n",
    "# print the title of the website\n",
    "print(title)"
   ]
  },
  {
   "cell_type": "markdown",
   "id": "1a14a59c-b524-4a6d-9c25-f84a47e93ebd",
   "metadata": {},
   "source": [
    "### 2. Extract all the links from a webpage."
   ]
  },
  {
   "cell_type": "code",
   "execution_count": 28,
   "id": "4f1be670-42b8-4911-8f57-b6e6cff8d75b",
   "metadata": {},
   "outputs": [
    {
     "name": "stdout",
     "output_type": "stream",
     "text": [
      "#start-of-content\n",
      "https://github.com/\n",
      "/signup?ref_cta=Sign+up&ref_loc=header+logged+out&ref_page=%2F&source=header-home\n",
      "/features/actions\n",
      "/features/packages\n",
      "/features/security\n",
      "/features/codespaces\n",
      "/features/copilot\n",
      "/features/code-review\n",
      "/features/issues\n",
      "/features/discussions\n",
      "/features\n",
      "https://docs.github.com\n",
      "https://skills.github.com/\n",
      "https://github.blog\n",
      "/enterprise\n",
      "/team\n",
      "/enterprise/startups\n",
      "https://education.github.com\n",
      "/solutions/ci-cd/\n",
      "https://resources.github.com/devops/\n",
      "https://resources.github.com/devops/fundamentals/devsecops/\n",
      "/customer-stories\n",
      "https://resources.github.com/\n",
      "/sponsors\n",
      "/readme\n",
      "/topics\n",
      "/trending\n",
      "/collections\n",
      "/pricing\n",
      "\n",
      "\n",
      "\n",
      "\n",
      "/login\n",
      "/signup?ref_cta=Sign+up&ref_loc=header+logged+out&ref_page=%2F&source=header-home\n",
      "/features/preview/copilot-x\n",
      "/organizations/enterprise_plan?ref_cta=Start+a+free+enterprise+trial&ref_loc=Home+campaign+hero&ref_page=%2F\n",
      "#productivity\n",
      "#collaboration\n",
      "#security\n",
      "/organizations/enterprise_plan?ref_cta=Start+a+free+enterprise+trial&ref_loc=homepage+sticky+nav&ref_page=%2F\n",
      "/join?ref_cta=Sign+up+for+GitHub&ref_loc=homepage+sticky+nav&ref_page=%2F&source=homepage-sticky-nav\n",
      "/features/codespaces\n",
      "/features/copilot\n",
      "/features/actions\n",
      "/mobile\n",
      "/features/issues\n",
      "/features/discussions\n",
      "/features/code-review\n",
      "/sponsors\n",
      "/imolorhe\n",
      "/yyx990803\n",
      "/dayhaysoos\n",
      "/prophen\n",
      "/directus\n",
      "/sindresorhus\n",
      "/commandpost\n",
      "/curl\n",
      "/homebrew\n",
      "/features/security\n",
      "https://github.com/features/security/code\n",
      "/features/security/software-supply-chain\n",
      "https://resources.github.com/security/sast/\n",
      "/signup?ref_cta=Sign+up+for+GitHub&ref_loc=Home+campaign+footer&ref_page=%2F\n",
      "/organizations/enterprise_plan?ref_cta=Start+a+free+enterprise+trial&ref_loc=Home+campaign+footer&ref_page=%2F\n",
      "/\n",
      "https://resources.github.com/newsletter/\n",
      "/features\n",
      "/security\n",
      "/team\n",
      "/enterprise\n",
      "/customer-stories?type=enterprise\n",
      "/readme\n",
      "/pricing\n",
      "https://resources.github.com\n",
      "https://github.com/github/roadmap\n",
      "https://docs.github.com\n",
      "https://partner.github.com\n",
      "https://www.electronjs.org\n",
      "https://desktop.github.com/\n",
      "https://docs.github.com\n",
      "https://github.community\n",
      "https://services.github.com/\n",
      "/premium-support\n",
      "https://skills.github.com/\n",
      "https://www.githubstatus.com/\n",
      "https://support.github.com?tags=dotcom-footer\n",
      "https://github.com/about\n",
      "https://github.blog\n",
      "/about/careers\n",
      "/about/press\n",
      "/about/diversity\n",
      "https://socialimpact.github.com/\n",
      "https://shop.github.com\n",
      "https://twitter.com/github\n",
      "https://www.facebook.com/GitHub\n",
      "https://www.linkedin.com/company/github\n",
      "https://www.youtube.com/github\n",
      "https://www.twitch.tv/github\n",
      "https://www.tiktok.com/@github\n",
      "https://github.com/github\n",
      "https://docs.github.com/site-policy/github-terms/github-terms-of-service\n",
      "https://docs.github.com/site-policy/privacy-policies/github-privacy-statement\n",
      "https://github.com/github/site-policy/pull/582\n",
      "/sitemap\n",
      "/git-guides\n",
      "\n",
      "\n"
     ]
    }
   ],
   "source": [
    "response = requests.get(url)\n",
    "soup = BeautifulSoup(response.text, \"html.parser\")\n",
    "links = soup.find_all(\"a\")\n",
    "\n",
    "for link in links:\n",
    "    print(link.get(\"href\"))\n"
   ]
  },
  {
   "cell_type": "markdown",
   "id": "6e36373b-32b1-4eea-91ce-4d345a8401db",
   "metadata": {},
   "source": [
    "### 3. Extract all the images from a webpage."
   ]
  },
  {
   "cell_type": "code",
   "execution_count": 29,
   "id": "fa396d31-7cfc-43b3-adcb-744ee50082b5",
   "metadata": {
    "tags": []
   },
   "outputs": [
    {
     "name": "stdout",
     "output_type": "stream",
     "text": [
      "53\n"
     ]
    }
   ],
   "source": [
    "response = requests.get(url)\n",
    "soup = BeautifulSoup(response.text, \"html.parser\")\n",
    "images = soup.find_all(\"img\")\n",
    "\n",
    "# for image in images:\n",
    "#     print(image.get(\"src\"))\n",
    "print(len(images))"
   ]
  },
  {
   "cell_type": "markdown",
   "id": "8b2d5b96-4543-42de-9d27-68113adb57bc",
   "metadata": {},
   "source": [
    "### 4. Extract all the text from a webpage."
   ]
  },
  {
   "cell_type": "code",
   "execution_count": 30,
   "id": "f1e5acc1-813f-4b90-ae26-6e2ef4c2bc79",
   "metadata": {
    "tags": []
   },
   "outputs": [
    {
     "name": "stdout",
     "output_type": "stream",
     "text": [
      "10610\n"
     ]
    }
   ],
   "source": [
    "response = requests.get(url)\n",
    "soup = BeautifulSoup(response.text, \"html.parser\")\n",
    "text = soup.get_text()\n",
    "\n",
    "print(len(text))"
   ]
  },
  {
   "cell_type": "markdown",
   "id": "7ef77db0-bc60-46dc-b50b-5df59c6a7213",
   "metadata": {},
   "source": [
    "### 5. Extract the first paragraph of a webpage."
   ]
  },
  {
   "cell_type": "code",
   "execution_count": 33,
   "id": "63b1d2e3-7db5-4c1a-9987-c9a00d6511db",
   "metadata": {
    "tags": []
   },
   "outputs": [
    {
     "name": "stdout",
     "output_type": "stream",
     "text": [
      "Harnessed for productivity. Designed for collaboration. Celebrated for built-in security. Welcome to the platform developers love.\n"
     ]
    }
   ],
   "source": [
    "response = requests.get(url)\n",
    "soup = BeautifulSoup(response.text, \"html.parser\")\n",
    "paragraph = soup.p.string\n",
    "\n",
    "print(paragraph.strip())\n"
   ]
  },
  {
   "cell_type": "markdown",
   "id": "0159e04d-4232-49b3-967d-fcc645a3fd3c",
   "metadata": {},
   "source": [
    "### 6. Extract all the headers from a webpage."
   ]
  },
  {
   "cell_type": "code",
   "execution_count": 32,
   "id": "4f3e1bec-da35-4840-be31-df94acaa1e22",
   "metadata": {
    "tags": []
   },
   "outputs": [
    {
     "name": "stdout",
     "output_type": "stream",
     "text": [
      "19\n"
     ]
    }
   ],
   "source": [
    "response = requests.get(url)\n",
    "soup = BeautifulSoup(response.text, \"html.parser\")\n",
    "headers = soup.find_all([\"h1\", \"h2\", \"h3\", \"h4\", \"h5\", \"h6\"])\n",
    "\n",
    "# for header in headers:\n",
    "#     print(header.string)\n",
    "print(len(headers))"
   ]
  },
  {
   "cell_type": "markdown",
   "id": "14a28eaa-181e-4257-ad7a-71fea3dd6d7e",
   "metadata": {},
   "source": [
    "### 7. Extract all the tables from a webpage. "
   ]
  },
  {
   "cell_type": "code",
   "execution_count": 37,
   "id": "8a0e6b6a-792b-49cc-85e7-5f5012999fd1",
   "metadata": {
    "tags": []
   },
   "outputs": [
    {
     "data": {
      "text/plain": [
       "0"
      ]
     },
     "execution_count": 37,
     "metadata": {},
     "output_type": "execute_result"
    }
   ],
   "source": [
    "response = requests.get(url)\n",
    "soup = BeautifulSoup(response.text, \"html.parser\")\n",
    "tables = soup.find_all(\"table\")\n",
    "\n",
    "# for table in tables:\n",
    "#     print(table)\n",
    "len(tables)"
   ]
  },
  {
   "cell_type": "markdown",
   "id": "aab944e9-9b10-49ab-8334-9b3d0fbc9f6e",
   "metadata": {},
   "source": [
    "### 8. Extract all the list items from a webpage."
   ]
  },
  {
   "cell_type": "code",
   "execution_count": 43,
   "id": "2066471c-7382-4e51-b091-b3bb2236ef98",
   "metadata": {
    "tags": []
   },
   "outputs": [
    {
     "name": "stdout",
     "output_type": "stream",
     "text": [
      "92\n"
     ]
    }
   ],
   "source": [
    "response = requests.get(url)\n",
    "soup = BeautifulSoup(response.text, \"html.parser\")\n",
    "lists = soup.find_all(\"li\")\n",
    "\n",
    "# for li in lists:\n",
    "#     if li.string is not None:\n",
    "#         print(li.string.strip())\n",
    "\n",
    "print(len(lists))"
   ]
  },
  {
   "cell_type": "code",
   "execution_count": null,
   "id": "55b1608a-d057-4c18-af15-34e40bd37595",
   "metadata": {},
   "outputs": [],
   "source": []
  }
 ],
 "metadata": {
  "kernelspec": {
   "display_name": "Python 3 (ipykernel)",
   "language": "python",
   "name": "python3"
  },
  "language_info": {
   "codemirror_mode": {
    "name": "ipython",
    "version": 3
   },
   "file_extension": ".py",
   "mimetype": "text/x-python",
   "name": "python",
   "nbconvert_exporter": "python",
   "pygments_lexer": "ipython3",
   "version": "3.9.10"
  }
 },
 "nbformat": 4,
 "nbformat_minor": 5
}
