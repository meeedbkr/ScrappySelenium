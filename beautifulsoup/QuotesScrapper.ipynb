{
 "cells": [
  {
   "cell_type": "markdown",
   "id": "26334de6-627d-463e-b5b5-2123f3d4e6b4",
   "metadata": {},
   "source": [
    "# Quotes scrapping"
   ]
  },
  {
   "cell_type": "markdown",
   "id": "07f22506-8e5b-4ded-b21a-47c376b13b35",
   "metadata": {},
   "source": [
    "in this code nootbook i'll be scrapping quotes from goodreads based on the type \\\n",
    "i'll store them in a list of dictionnaries so it would be easy for me to stor them as csv"
   ]
  },
  {
   "cell_type": "code",
   "execution_count": 17,
   "id": "efb4f305-ee61-4759-98bc-d4c9940cfe4f",
   "metadata": {
    "tags": []
   },
   "outputs": [],
   "source": [
    "# import libraries\n",
    "from bs4 import BeautifulSoup\n",
    "import pandas as pd\n",
    "import requests\n",
    "import re"
   ]
  },
  {
   "cell_type": "code",
   "execution_count": 23,
   "id": "f42eb1b9-e616-4aab-8c50-83a0bc4f9900",
   "metadata": {
    "tags": []
   },
   "outputs": [],
   "source": [
    "#get types of quotes\n",
    "page = 1\n",
    "maxPages = 100\n",
    "url = f'https://www.goodreads.com/quotes/tag/love?page={page}'\n",
    "page = requests.get(url)\n",
    "soup = BeautifulSoup(page.content, 'html.parser')\n",
    "# a list contains the tpes of quotes\n",
    "types = []\n",
    "links = soup.select('.listTagsTwoColumn a.gr-hyperlink')\n",
    "for link in links:\n",
    "    quoteType = link.text.strip()\n",
    "    quoteLink = '-'.join(quoteType.split()[:-1])\n",
    "    types.append( { 'type':quoteType, 'link':quoteLink } )"
   ]
  },
  {
   "cell_type": "code",
   "execution_count": 24,
   "id": "c95bc378-5e00-4e0f-89b4-612b459b04a7",
   "metadata": {
    "tags": []
   },
   "outputs": [
    {
     "data": {
      "text/html": [
       "<div>\n",
       "<style scoped>\n",
       "    .dataframe tbody tr th:only-of-type {\n",
       "        vertical-align: middle;\n",
       "    }\n",
       "\n",
       "    .dataframe tbody tr th {\n",
       "        vertical-align: top;\n",
       "    }\n",
       "\n",
       "    .dataframe thead th {\n",
       "        text-align: right;\n",
       "    }\n",
       "</style>\n",
       "<table border=\"1\" class=\"dataframe\">\n",
       "  <thead>\n",
       "    <tr style=\"text-align: right;\">\n",
       "      <th></th>\n",
       "      <th>type</th>\n",
       "      <th>link</th>\n",
       "    </tr>\n",
       "  </thead>\n",
       "  <tbody>\n",
       "    <tr>\n",
       "      <th>0</th>\n",
       "      <td>Love Quotes</td>\n",
       "      <td>Love</td>\n",
       "    </tr>\n",
       "    <tr>\n",
       "      <th>1</th>\n",
       "      <td>Life Quotes</td>\n",
       "      <td>Life</td>\n",
       "    </tr>\n",
       "  </tbody>\n",
       "</table>\n",
       "</div>"
      ],
      "text/plain": [
       "          type  link\n",
       "0  Love Quotes  Love\n",
       "1  Life Quotes  Life"
      ]
     },
     "execution_count": 24,
     "metadata": {},
     "output_type": "execute_result"
    }
   ],
   "source": [
    "# transform the types to dataFrame\n",
    "tDf = pd.DataFrame(types)\n",
    "tDf.head(2)"
   ]
  },
  {
   "cell_type": "code",
   "execution_count": null,
   "id": "e9e0a475-e276-4dd8-88ba-340a0ab119ec",
   "metadata": {},
   "outputs": [],
   "source": [
    "class Scrapper:\n",
    "    __init__(self,page,maxPages):\n",
    "        self.page = page\n",
    "        self.maxPages = maxPages\n",
    "        "
   ]
  }
 ],
 "metadata": {
  "kernelspec": {
   "display_name": "Python 3 (ipykernel)",
   "language": "python",
   "name": "python3"
  },
  "language_info": {
   "codemirror_mode": {
    "name": "ipython",
    "version": 3
   },
   "file_extension": ".py",
   "mimetype": "text/x-python",
   "name": "python",
   "nbconvert_exporter": "python",
   "pygments_lexer": "ipython3",
   "version": "3.9.10"
  }
 },
 "nbformat": 4,
 "nbformat_minor": 5
}
