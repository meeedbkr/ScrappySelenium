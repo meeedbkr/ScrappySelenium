{
 "cells": [
  {
   "cell_type": "markdown",
   "id": "5be11b87-79c1-4afc-8ca0-95a49ceb729c",
   "metadata": {},
   "source": [
    "# Avito Scrapper"
   ]
  },
  {
   "cell_type": "code",
   "execution_count": 2,
   "id": "727a9623-b656-4aa3-8553-946dff9afde2",
   "metadata": {
    "tags": []
   },
   "outputs": [],
   "source": [
    "# import libraries\n",
    "from bs4 import BeautifulSoup\n",
    "import pandas as pd\n",
    "import requests\n",
    "from lxml import etree\n",
    "import re"
   ]
  },
  {
   "cell_type": "code",
   "execution_count": 5,
   "id": "d2ef4639-4411-45c6-8b74-c22501e43f36",
   "metadata": {
    "tags": []
   },
   "outputs": [],
   "source": [
    "def get_hrefs(page=1 , url= '' , selector = ''):\n",
    "    page = requests.get(url, headers={'User-Agent': 'Mozilla/5.0'})\n",
    "    soup = BeautifulSoup(page.content, 'html.parser')\n",
    "    # a list contains the tpes of Elements\n",
    "    elements = []\n",
    "    gottenElements = soup.select(selector)\n",
    "    for element in gottenElements:\n",
    "        elements.append(element['href'])\n",
    "    return elements\n",
    "\n",
    "page = 1\n",
    "selector = '.listing a.jejop8-1.cvhTQL'\n",
    "url = f'https://www.avito.ma/fr/maroc/voitures-%C3%A0_vendre?o={page}&price_min=100'\n",
    "\n",
    "# scrap = True\n",
    "# while scrap:\n",
    "#     cars = get_hrefs(1 , url, selector)\n",
    "#     for car in cars:\n",
    "        "
   ]
  },
  {
   "cell_type": "code",
   "execution_count": 8,
   "id": "88bdeead-9636-4d78-a892-7d4a34d806f4",
   "metadata": {
    "tags": []
   },
   "outputs": [
    {
     "data": {
      "text/plain": [
       "[]"
      ]
     },
     "execution_count": 8,
     "metadata": {},
     "output_type": "execute_result"
    }
   ],
   "source": [
    "url = \"https://www.avito.ma/fr/nador/voitures_d'occasion/mercedis_benz_52635926.htm\"\n",
    "page = requests.get(url, headers={'User-Agent': 'Mozilla/5.0'})\n",
    "soup = BeautifulSoup(page.content, 'html.parser')\n",
    "soup.find('h1').string\n",
    "dom = etree.HTML(str(soup))\n",
    "scores_string = soup.find_all(re.compile('Type'))\n",
    "scores_string"
   ]
  },
  {
   "cell_type": "code",
   "execution_count": null,
   "id": "b6b7e4ed-ff88-473b-92fd-1ab4076b1bda",
   "metadata": {},
   "outputs": [],
   "source": []
  }
 ],
 "metadata": {
  "kernelspec": {
   "display_name": "Python 3 (ipykernel)",
   "language": "python",
   "name": "python3"
  },
  "language_info": {
   "codemirror_mode": {
    "name": "ipython",
    "version": 3
   },
   "file_extension": ".py",
   "mimetype": "text/x-python",
   "name": "python",
   "nbconvert_exporter": "python",
   "pygments_lexer": "ipython3",
   "version": "3.9.10"
  }
 },
 "nbformat": 4,
 "nbformat_minor": 5
}
