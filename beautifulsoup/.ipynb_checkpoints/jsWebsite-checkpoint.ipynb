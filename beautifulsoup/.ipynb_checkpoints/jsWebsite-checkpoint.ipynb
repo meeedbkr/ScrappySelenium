{
 "cells": [
  {
   "cell_type": "markdown",
   "id": "3bcb8104-7e1c-446d-b4c2-7b9675d003e9",
   "metadata": {},
   "source": [
    "# Javascript annimated website scraping"
   ]
  },
  {
   "cell_type": "code",
   "execution_count": 26,
   "id": "184f7b86-654b-458e-b3a9-a484a8f55e4e",
   "metadata": {
    "tags": []
   },
   "outputs": [],
   "source": [
    "import requests\n",
    "import pandas as pd"
   ]
  },
  {
   "cell_type": "code",
   "execution_count": 22,
   "id": "6287f7e3-f7bc-4c50-8a31-111164c919ad",
   "metadata": {
    "tags": []
   },
   "outputs": [],
   "source": [
    "# i found that the website get's the data using api so i'll get it too .)\n",
    "# i descover it using network section in developer options\n",
    "req = requests.get('https://directory.ntschools.net/api/System/GetAllSchools')\n",
    "# list of schools with their innital infos\n",
    "jData = req.json()"
   ]
  },
  {
   "cell_type": "code",
   "execution_count": 29,
   "id": "e374c276-b1ae-4bf0-8661-c4dcf2f8d54a",
   "metadata": {
    "tags": []
   },
   "outputs": [],
   "source": [
    "header = {\n",
    "'Accept' : 'application/json ',\n",
    "'Accept-Encoding' : 'gzip, deflate, br ',\n",
    "'Accept-Language' : 'en-US,en;q=0.9 ',\n",
    "'Referer' : 'https://directory.ntschools.net/ ',\n",
    "'Sec-Fetch-Mode' : 'cors ',\n",
    "'Sec-Fetch-Site' : 'same-origin ',\n",
    "'User-Agent' : 'Mozilla/5.0 (Linux; Android 6.0; Nexus 5 Build/MRA58N) AppleWebKit/537.36 (KHTML, like Gecko) Chrome/111.0.0.0 Mobile Safari/537.36 ',\n",
    "'X-Requested-With' : 'Fetch'}\n",
    "schools = []\n",
    "for school in jData:\n",
    "    j = requests.get(url = 'https://directory.ntschools.net/api/System/GetSchool?itSchoolCode='+school['itSchoolCode'], headers = header)\n",
    "    schools.append(j.json())"
   ]
  },
  {
   "cell_type": "code",
   "execution_count": 31,
   "id": "5d363069-e06b-4ac3-b30a-6db3939fa0a5",
   "metadata": {
    "tags": []
   },
   "outputs": [
    {
     "data": {
      "text/html": [
       "<div>\n",
       "<style scoped>\n",
       "    .dataframe tbody tr th:only-of-type {\n",
       "        vertical-align: middle;\n",
       "    }\n",
       "\n",
       "    .dataframe tbody tr th {\n",
       "        vertical-align: top;\n",
       "    }\n",
       "\n",
       "    .dataframe thead th {\n",
       "        text-align: right;\n",
       "    }\n",
       "</style>\n",
       "<table border=\"1\" class=\"dataframe\">\n",
       "  <thead>\n",
       "    <tr style=\"text-align: right;\">\n",
       "      <th></th>\n",
       "      <th>name</th>\n",
       "      <th>notes</th>\n",
       "      <th>physicalAddress</th>\n",
       "      <th>postalAddress</th>\n",
       "      <th>dn</th>\n",
       "      <th>aliases</th>\n",
       "      <th>region</th>\n",
       "      <th>ntgGeographicDefinition</th>\n",
       "      <th>enrolment</th>\n",
       "      <th>enrolmentDataSource</th>\n",
       "      <th>...</th>\n",
       "      <th>schoolElectorate</th>\n",
       "      <th>facsimileTelephoneNumber</th>\n",
       "      <th>councilMail</th>\n",
       "      <th>remoteDefinition</th>\n",
       "      <th>long</th>\n",
       "      <th>lat</th>\n",
       "      <th>uri</th>\n",
       "      <th>mail</th>\n",
       "      <th>preSchoolInfo</th>\n",
       "      <th>schoolManagement</th>\n",
       "    </tr>\n",
       "  </thead>\n",
       "  <tbody>\n",
       "    <tr>\n",
       "      <th>0</th>\n",
       "      <td>Acacia Hill School</td>\n",
       "      <td>None</td>\n",
       "      <td>{'description': '80 Spearwood Rd', 'state': 'N...</td>\n",
       "      <td>{'description': 'PO Box 435', 'state': 'NT', '...</td>\n",
       "      <td>ou=Acacia Hill School,ou=Government,ou=NTSchoo...</td>\n",
       "      <td>[]</td>\n",
       "      <td>Central</td>\n",
       "      <td>Remote Australia</td>\n",
       "      <td>93</td>\n",
       "      <td>2021 Census - 1st week August</td>\n",
       "      <td>...</td>\n",
       "      <td>Braitling</td>\n",
       "      <td>None</td>\n",
       "      <td>tba</td>\n",
       "      <td>Urban</td>\n",
       "      <td>133.898</td>\n",
       "      <td>-23.7007</td>\n",
       "      <td>not available</td>\n",
       "      <td>acaciahill.school@education.nt.gov.au</td>\n",
       "      <td>None</td>\n",
       "      <td>[{'firstName': 'Julie', 'lastName': 'Permezel'...</td>\n",
       "    </tr>\n",
       "  </tbody>\n",
       "</table>\n",
       "<p>1 rows × 32 columns</p>\n",
       "</div>"
      ],
      "text/plain": [
       "                 name notes  \\\n",
       "0  Acacia Hill School  None   \n",
       "\n",
       "                                     physicalAddress  \\\n",
       "0  {'description': '80 Spearwood Rd', 'state': 'N...   \n",
       "\n",
       "                                       postalAddress  \\\n",
       "0  {'description': 'PO Box 435', 'state': 'NT', '...   \n",
       "\n",
       "                                                  dn aliases   region  \\\n",
       "0  ou=Acacia Hill School,ou=Government,ou=NTSchoo...      []  Central   \n",
       "\n",
       "  ntgGeographicDefinition enrolment            enrolmentDataSource  ...  \\\n",
       "0        Remote Australia        93  2021 Census - 1st week August  ...   \n",
       "\n",
       "  schoolElectorate facsimileTelephoneNumber  councilMail  remoteDefinition  \\\n",
       "0        Braitling                     None          tba             Urban   \n",
       "\n",
       "      long       lat            uri                                   mail  \\\n",
       "0  133.898  -23.7007  not available  acaciahill.school@education.nt.gov.au   \n",
       "\n",
       "  preSchoolInfo                                   schoolManagement  \n",
       "0          None  [{'firstName': 'Julie', 'lastName': 'Permezel'...  \n",
       "\n",
       "[1 rows x 32 columns]"
      ]
     },
     "execution_count": 31,
     "metadata": {},
     "output_type": "execute_result"
    }
   ],
   "source": [
    "df = pd.DataFrame(schools)\n",
    "df.head(1)"
   ]
  },
  {
   "cell_type": "code",
   "execution_count": 50,
   "id": "a60df19d-aa8d-49d6-bc0c-952092af54bd",
   "metadata": {
    "tags": []
   },
   "outputs": [],
   "source": [
    "df.to_csv('out/schools.csv')"
   ]
  },
  {
   "cell_type": "code",
   "execution_count": null,
   "id": "744f619b-d0cc-4959-bb2c-60ea51eeeab8",
   "metadata": {},
   "outputs": [],
   "source": []
  }
 ],
 "metadata": {
  "kernelspec": {
   "display_name": "Python 3 (ipykernel)",
   "language": "python",
   "name": "python3"
  },
  "language_info": {
   "codemirror_mode": {
    "name": "ipython",
    "version": 3
   },
   "file_extension": ".py",
   "mimetype": "text/x-python",
   "name": "python",
   "nbconvert_exporter": "python",
   "pygments_lexer": "ipython3",
   "version": "3.9.10"
  }
 },
 "nbformat": 4,
 "nbformat_minor": 5
}
