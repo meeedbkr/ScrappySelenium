{
 "cells": [
  {
   "cell_type": "markdown",
   "id": "5be11b87-79c1-4afc-8ca0-95a49ceb729c",
   "metadata": {},
   "source": [
    "# Avito Scrapper"
   ]
  },
  {
   "cell_type": "code",
   "execution_count": 27,
   "id": "727a9623-b656-4aa3-8553-946dff9afde2",
   "metadata": {
    "tags": []
   },
   "outputs": [],
   "source": [
    "# import libraries\n",
    "from bs4 import BeautifulSoup\n",
    "import pandas as pd\n",
    "import requests\n",
    "from lxml import etree\n",
    "import re"
   ]
  },
  {
   "cell_type": "code",
   "execution_count": 17,
   "id": "d2ef4639-4411-45c6-8b74-c22501e43f36",
   "metadata": {
    "tags": []
   },
   "outputs": [
    {
     "data": {
      "text/plain": [
       "['https://www.avito.ma/fr/nador/voitures/mercedis_benz_52635926.htm',\n",
       " 'https://www.avito.ma/fr/route_dimmouzere/voitures/Ford_fiesta_Titanium_52469420.htm',\n",
       " 'https://www.avito.ma/fr/narjis/voitures/Porsche_Macan_52635915.htm',\n",
       " 'https://www.avito.ma/fr/fès/voitures/c220_pack_amg_en_tres_bn_etat_52648191.htm',\n",
       " 'https://www.avito.ma/fr/casablanca/voitures/vend_Peugeot_partner_importé__52470422.htm',\n",
       " 'https://www.avito.ma/fr/béni_mellal/voitures/duster_2017_51729102.htm',\n",
       " 'https://www.avito.ma/fr/hay_riad/voitures/Ford_mondeo_à_vendre__52661370.htm',\n",
       " 'https://www.avito.ma/fr/al_irfane/voitures/Rifter_Allure_52661368.htm',\n",
       " 'https://www.avito.ma/fr/autre_secteur/voitures/Volkswagen_Golf_7_5_gtd_importé__52661367.htm',\n",
       " 'https://www.avito.ma/fr/mhamid/voitures/Nissan_52661363.htm',\n",
       " 'https://www.avito.ma/fr/gueznaia/voitures/duster_dacia_52661355.htm',\n",
       " 'https://www.avito.ma/fr/centre_ville/voitures/Citroën_Berlingo_modèle_2006__52661349.htm',\n",
       " 'https://www.avito.ma/fr/hay_izdihar/voitures/ALFA_ROMEO_Giulietta__52566987.htm',\n",
       " 'https://www.avito.ma/fr/houderrane/voitures/dacia_sandero_52661331.htm',\n",
       " 'https://www.avito.ma/fr/casablanca/voitures/Sandero__52661329.htm',\n",
       " 'https://www.avito.ma/fr/mechouar_fes_jdid/voitures/Renault_52661328.htm',\n",
       " 'https://www.avito.ma/fr/kalaat_mgouna/voitures/dacia_logaan_52661320.htm',\n",
       " 'https://www.avito.ma/fr/kénitra/voitures/hyandai_accent_52661318.htm',\n",
       " 'https://www.avito.ma/fr/tanger/voitures/dacia_logan_à_vendre_très_bon_etat__52661313.htm',\n",
       " 'https://www.avito.ma/fr/anfa/voitures/Accent_HYUNDAI_AUTOMATIQUE_52630398.htm',\n",
       " 'https://www.avito.ma/fr/hivernage/voitures/Range_Rover_bebe_velar_51836455.htm',\n",
       " 'https://www.avito.ma/fr/hassan/voitures/bmw_318_d__52610707.htm',\n",
       " 'https://www.avito.ma/fr/tilila/voitures/Toyota_52648764.htm',\n",
       " 'https://www.avito.ma/fr/salé/voitures/Fiat_Palio_isans_n9iya__52661294.htm',\n",
       " 'https://www.avito.ma/fr/anfa/voitures/BMW_x5_3L_Diesel_2016___EXCELLENTE_ETAT___52446141.htm',\n",
       " 'https://www.avito.ma/fr/sofia/voitures/Hyundai_ix35_52661290.htm',\n",
       " 'https://www.avito.ma/fr/galaz/voitures/Volkswagen_52661286.htm',\n",
       " 'https://www.avito.ma/fr/anfa/voitures/BMW_530_Diesel__52655553.htm',\n",
       " 'https://www.avito.ma/fr/marjane_2/voitures/Renault_Scenic_3_52661285.htm',\n",
       " 'https://www.avito.ma/fr/casablanca/voitures/Peugeot_52661282.htm',\n",
       " 'https://www.avito.ma/fr/casablanca/voitures/CLASSE_S_63_AMG_52654890.htm',\n",
       " 'https://www.avito.ma/fr/tétouan/voitures/Mercedes_220_C_52661256.htm',\n",
       " 'https://www.avito.ma/fr/casablanca/voitures/infiniti_g37_320_cv__52661254.htm',\n",
       " 'https://www.avito.ma/fr/rommani/voitures/renaud_clio_52661253.htm',\n",
       " 'https://www.avito.ma/fr/casablanca/voitures/Hummer_H3__52484147.htm']"
      ]
     },
     "execution_count": 17,
     "metadata": {},
     "output_type": "execute_result"
    }
   ],
   "source": [
    "def get_hrefs(page=1 , url= '' , selector = ''):\n",
    "    page = requests.get(url, headers={'User-Agent': 'Mozilla/5.0'})\n",
    "    soup = BeautifulSoup(page.content, 'html.parser')\n",
    "    # a list contains the tpes of Elements\n",
    "    elements = []\n",
    "    gottenElements = soup.select(selector)\n",
    "    for element in gottenElements:\n",
    "        elements.append(element['href'])\n",
    "    return elements\n",
    "\n",
    "\n",
    "selector = '.listing a.jejop8-1.cvhTQL'\n",
    "url = f'https://www.avito.ma/fr/maroc/voitures-%C3%A0_vendre?o={page}&price_min=100'\n",
    "\n",
    "scrap = True\n",
    "while scrap:\n",
    "    cars = get_hrefs(1 , url, selector)\n",
    "    for car in cars:\n",
    "        "
   ]
  },
  {
   "cell_type": "code",
   "execution_count": 30,
   "id": "88bdeead-9636-4d78-a892-7d4a34d806f4",
   "metadata": {
    "tags": []
   },
   "outputs": [
    {
     "ename": "AttributeError",
     "evalue": "'lxml.etree._Element' object has no attribute 'next_element'",
     "output_type": "error",
     "traceback": [
      "\u001b[1;31m---------------------------------------------------------------------------\u001b[0m",
      "\u001b[1;31mAttributeError\u001b[0m                            Traceback (most recent call last)",
      "Cell \u001b[1;32mIn[30], line 10\u001b[0m\n\u001b[0;32m      8\u001b[0m year \u001b[38;5;241m=\u001b[39m dom\u001b[38;5;241m.\u001b[39mxpath(\u001b[38;5;124m'\u001b[39m\u001b[38;5;124m//*[@id=\u001b[39m\u001b[38;5;124m\"\u001b[39m\u001b[38;5;124m__next\u001b[39m\u001b[38;5;124m\"\u001b[39m\u001b[38;5;124m]/div/main/div/div[3]/div[1]/div[2]/div[1]/div[1]/div[2]/div[3]/div[2]/ol/li[6]/span[2]\u001b[39m\u001b[38;5;124m'\u001b[39m)[\u001b[38;5;241m0\u001b[39m]\u001b[38;5;241m.\u001b[39mtext\n\u001b[0;32m      9\u001b[0m year \u001b[38;5;241m=\u001b[39m dom\u001b[38;5;241m.\u001b[39mxpath(\u001b[38;5;124m'\u001b[39m\u001b[38;5;124m//*[@id=\u001b[39m\u001b[38;5;124m\"\u001b[39m\u001b[38;5;124m__next\u001b[39m\u001b[38;5;124m\"\u001b[39m\u001b[38;5;124m]/div/main/div/div[3]/div[1]/div[2]/div[1]/div[1]/div[2]/div[3]/div[2]/ol/li[6]/span[2]\u001b[39m\u001b[38;5;124m'\u001b[39m)[\u001b[38;5;241m0\u001b[39m]\u001b[38;5;241m.\u001b[39mtext\n\u001b[1;32m---> 10\u001b[0m year \u001b[38;5;241m=\u001b[39m \u001b[43mdom\u001b[49m\u001b[38;5;241;43m.\u001b[39;49m\u001b[43mxpath\u001b[49m\u001b[43m(\u001b[49m\u001b[38;5;124;43m'\u001b[39;49m\u001b[38;5;124;43m//*[@id=\u001b[39;49m\u001b[38;5;124;43m\"\u001b[39;49m\u001b[38;5;124;43m__next\u001b[39;49m\u001b[38;5;124;43m\"\u001b[39;49m\u001b[38;5;124;43m]/div/main/div/div[3]/div[1]/div[2]/div[1]/div[1]/div[2]/div[3]/div[2]/ol/li[6]/span[2]\u001b[39;49m\u001b[38;5;124;43m'\u001b[39;49m\u001b[43m)\u001b[49m\u001b[43m[\u001b[49m\u001b[38;5;241;43m0\u001b[39;49m\u001b[43m]\u001b[49m\u001b[38;5;241;43m.\u001b[39;49m\u001b[43mnext_element\u001b[49m \n",
      "\u001b[1;31mAttributeError\u001b[0m: 'lxml.etree._Element' object has no attribute 'next_element'"
     ]
    }
   ],
   "source": [
    "url = \"https://www.avito.ma/fr/nador/voitures_d'occasion/mercedis_benz_52635926.htm\"\n",
    "page = requests.get(url, headers={'User-Agent': 'Mozilla/5.0'})\n",
    "soup = BeautifulSoup(page.content, 'html.parser')\n",
    "soup.find('h1').string\n",
    "dom = etree.HTML(str(soup))\n",
    "typee = dom.xpath('//*[@id=\"__next\"]/div/main/div/div[3]/div[1]/div[2]/div[1]/div[1]/div[2]/div[3]/div[2]/ol/li[1]/span[2]')[0].text\n",
    "year = dom.xpath('//*[@id=\"__next\"]/div/main/div/div[3]/div[1]/div[2]/div[1]/div[1]/div[2]/div[3]/div[2]/ol/li[6]/span[2]')[0].text\n",
    "year = dom.xpath('//*[@id=\"__next\"]/div/main/div/div[3]/div[1]/div[2]/div[1]/div[1]/div[2]/div[3]/div[2]/ol/li[6]/span[2]')[0].text\n",
    "year = dom.xpath('//*[@id=\"__next\"]/div/main/div/div[3]/div[1]/div[2]/div[1]/div[1]/div[2]/div[3]/div[2]/ol/li[6]/span[2]')[0].text\n",
    "year = dom.xpath('//*[@id=\"__next\"]/div/main/div/div[3]/div[1]/div[2]/div[1]/div[1]/div[2]/div[3]/div[2]/ol/li[6]/span[2]')[0] "
   ]
  },
  {
   "cell_type": "code",
   "execution_count": null,
   "id": "b6b7e4ed-ff88-473b-92fd-1ab4076b1bda",
   "metadata": {},
   "outputs": [],
   "source": []
  }
 ],
 "metadata": {
  "kernelspec": {
   "display_name": "Python 3 (ipykernel)",
   "language": "python",
   "name": "python3"
  },
  "language_info": {
   "codemirror_mode": {
    "name": "ipython",
    "version": 3
   },
   "file_extension": ".py",
   "mimetype": "text/x-python",
   "name": "python",
   "nbconvert_exporter": "python",
   "pygments_lexer": "ipython3",
   "version": "3.9.10"
  }
 },
 "nbformat": 4,
 "nbformat_minor": 5
}
