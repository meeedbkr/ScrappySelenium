{
 "cells": [
  {
   "cell_type": "markdown",
   "id": "26334de6-627d-463e-b5b5-2123f3d4e6b4",
   "metadata": {},
   "source": [
    "# Quotes scrapping"
   ]
  },
  {
   "cell_type": "markdown",
   "id": "07f22506-8e5b-4ded-b21a-47c376b13b35",
   "metadata": {},
   "source": [
    "in this code nootbook i'll be scrapping quotes from goodreads based on the type \\\n",
    "i'll store them in a list of dictionnaries so it would be easy for me to stor them as csv"
   ]
  },
  {
   "cell_type": "code",
   "execution_count": 7,
   "id": "efb4f305-ee61-4759-98bc-d4c9940cfe4f",
   "metadata": {
    "tags": []
   },
   "outputs": [],
   "source": [
    "# import libraries\n",
    "from bs4 import BeautifulSoup\n",
    "import requests\n",
    "import re"
   ]
  },
  {
   "cell_type": "code",
   "execution_count": null,
   "id": "f42eb1b9-e616-4aab-8c50-83a0bc4f9900",
   "metadata": {},
   "outputs": [],
   "source": [
    "#get types of quotes\n",
    "page = 1\n",
    "maxPages = 100\n",
    "url = f'https://www.goodreads.com/quotes/tag/love?page={page}'\n"
   ]
  }
 ],
 "metadata": {
  "kernelspec": {
   "display_name": "Python 3 (ipykernel)",
   "language": "python",
   "name": "python3"
  },
  "language_info": {
   "codemirror_mode": {
    "name": "ipython",
    "version": 3
   },
   "file_extension": ".py",
   "mimetype": "text/x-python",
   "name": "python",
   "nbconvert_exporter": "python",
   "pygments_lexer": "ipython3",
   "version": "3.9.10"
  }
 },
 "nbformat": 4,
 "nbformat_minor": 5
}
