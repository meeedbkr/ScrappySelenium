{
 "cells": [
  {
   "cell_type": "code",
   "execution_count": 2,
   "id": "4c5f8c49-cbb2-4ca8-baef-c00d6f4a6121",
   "metadata": {
    "tags": []
   },
   "outputs": [],
   "source": [
    "# import libraries\n",
    "import snscrape.modules.twitter as sntwitter\n",
    "import pandas as pd\n",
    "import time"
   ]
  },
  {
   "cell_type": "code",
   "execution_count": 9,
   "id": "a00d5066-0c6c-4654-84c6-1fd194b143d4",
   "metadata": {
    "tags": []
   },
   "outputs": [
    {
     "data": {
      "text/plain": [
       "19.849660396575928"
      ]
     },
     "execution_count": 9,
     "metadata": {},
     "output_type": "execute_result"
    }
   ],
   "source": [
    "\n",
    "def search_by_query(query):\n",
    "    return sntwitter.TwitterSearchScraper(query).get_items()\n",
    "\n",
    "def get_tweets(maxTweets , query , language):\n",
    "    tweets = []\n",
    "    for i,tweet in enumerate(search_by_query(query)):\n",
    "        tweets.append({'language': language , 'content': tweet.rawContent})\n",
    "        if i >= maxTweets:\n",
    "            return tweets\n",
    "        \n",
    "start = time.time()\n",
    "language = 'darija'\n",
    "query = 'montakhab'\n",
    "maxTweets = 300\n",
    "tweets = []\n",
    "tweets += get_tweets(maxTweets , query , language )\n",
    "end = time.time()\n",
    "end - start"
   ]
  },
  {
   "cell_type": "code",
   "execution_count": 10,
   "id": "3b6602e6-9d3d-4181-ada0-27d0035383b1",
   "metadata": {
    "tags": []
   },
   "outputs": [],
   "source": [
    "df = pd.DataFrame(tweets)"
   ]
  },
  {
   "cell_type": "code",
   "execution_count": 11,
   "id": "74cbf62d-9597-4626-b230-d05ce9c2303c",
   "metadata": {},
   "outputs": [
    {
     "data": {
      "text/html": [
       "<div>\n",
       "<style scoped>\n",
       "    .dataframe tbody tr th:only-of-type {\n",
       "        vertical-align: middle;\n",
       "    }\n",
       "\n",
       "    .dataframe tbody tr th {\n",
       "        vertical-align: top;\n",
       "    }\n",
       "\n",
       "    .dataframe thead th {\n",
       "        text-align: right;\n",
       "    }\n",
       "</style>\n",
       "<table border=\"1\" class=\"dataframe\">\n",
       "  <thead>\n",
       "    <tr style=\"text-align: right;\">\n",
       "      <th></th>\n",
       "      <th>language</th>\n",
       "      <th>content</th>\n",
       "    </tr>\n",
       "  </thead>\n",
       "  <tbody>\n",
       "    <tr>\n",
       "      <th>0</th>\n",
       "      <td>darija</td>\n",
       "      <td>Visiteur f l'afrique kaaaaamalin wa9ila kydkhl...</td>\n",
       "    </tr>\n",
       "    <tr>\n",
       "      <th>1</th>\n",
       "      <td>darija</td>\n",
       "      <td>Tswira mea chi montakhab hsn mn lmghrib https:...</td>\n",
       "    </tr>\n",
       "    <tr>\n",
       "      <th>2</th>\n",
       "      <td>darija</td>\n",
       "      <td>https://t.co/qh6yOCwNvb</td>\n",
       "    </tr>\n",
       "    <tr>\n",
       "      <th>3</th>\n",
       "      <td>darija</td>\n",
       "      <td>نمیدونم چرا تو زندگیم همش نمیشه....\\nچند برابر...</td>\n",
       "    </tr>\n",
       "    <tr>\n",
       "      <th>4</th>\n",
       "      <td>darija</td>\n",
       "      <td>@gogeta24a Montakhab de 2023 fait rever mais r...</td>\n",
       "    </tr>\n",
       "    <tr>\n",
       "      <th>...</th>\n",
       "      <td>...</td>\n",
       "      <td>...</td>\n",
       "    </tr>\n",
       "    <tr>\n",
       "      <th>296</th>\n",
       "      <td>darija</td>\n",
       "      <td>nefsi ashof masr btksab el montakhab el bedan da</td>\n",
       "    </tr>\n",
       "    <tr>\n",
       "      <th>297</th>\n",
       "      <td>darija</td>\n",
       "      <td>Bayen keda enhom nesyo el montakhab fel hotel🥲</td>\n",
       "    </tr>\n",
       "    <tr>\n",
       "      <th>298</th>\n",
       "      <td>darija</td>\n",
       "      <td>@S1alah_66 Weghorst 3ndo nfss dor dyal En-nsey...</td>\n",
       "    </tr>\n",
       "    <tr>\n",
       "      <th>299</th>\n",
       "      <td>darija</td>\n",
       "      <td>@ChroniquesAtlas Si tu étais mon kinésithérape...</td>\n",
       "    </tr>\n",
       "    <tr>\n",
       "      <th>300</th>\n",
       "      <td>darija</td>\n",
       "      <td>Ahmed adel dah el dark horse beta3 el montakha...</td>\n",
       "    </tr>\n",
       "  </tbody>\n",
       "</table>\n",
       "<p>301 rows × 2 columns</p>\n",
       "</div>"
      ],
      "text/plain": [
       "    language                                            content\n",
       "0     darija  Visiteur f l'afrique kaaaaamalin wa9ila kydkhl...\n",
       "1     darija  Tswira mea chi montakhab hsn mn lmghrib https:...\n",
       "2     darija                            https://t.co/qh6yOCwNvb\n",
       "3     darija  نمیدونم چرا تو زندگیم همش نمیشه....\\nچند برابر...\n",
       "4     darija  @gogeta24a Montakhab de 2023 fait rever mais r...\n",
       "..       ...                                                ...\n",
       "296   darija   nefsi ashof masr btksab el montakhab el bedan da\n",
       "297   darija     Bayen keda enhom nesyo el montakhab fel hotel🥲\n",
       "298   darija  @S1alah_66 Weghorst 3ndo nfss dor dyal En-nsey...\n",
       "299   darija  @ChroniquesAtlas Si tu étais mon kinésithérape...\n",
       "300   darija  Ahmed adel dah el dark horse beta3 el montakha...\n",
       "\n",
       "[301 rows x 2 columns]"
      ]
     },
     "execution_count": 11,
     "metadata": {},
     "output_type": "execute_result"
    }
   ],
   "source": [
    "df"
   ]
  },
  {
   "cell_type": "code",
   "execution_count": null,
   "id": "b7f2281c-a0d4-4865-b810-c724feb5ef29",
   "metadata": {},
   "outputs": [],
   "source": []
  }
 ],
 "metadata": {
  "kernelspec": {
   "display_name": "Python 3 (ipykernel)",
   "language": "python",
   "name": "python3"
  },
  "language_info": {
   "codemirror_mode": {
    "name": "ipython",
    "version": 3
   },
   "file_extension": ".py",
   "mimetype": "text/x-python",
   "name": "python",
   "nbconvert_exporter": "python",
   "pygments_lexer": "ipython3",
   "version": "3.9.10"
  }
 },
 "nbformat": 4,
 "nbformat_minor": 5
}
